{
 "cells": [
  {
   "cell_type": "code",
   "execution_count": 1,
   "id": "cdd7031f-0418-4cb0-b9b0-de8299638513",
   "metadata": {},
   "outputs": [
    {
     "name": "stdout",
     "output_type": "stream",
     "text": [
      "✅ Data uploaded successfully to MySQL!\n"
     ]
    }
   ],
   "source": [
    "import pandas as pd\n",
    "from sqlalchemy import create_engine\n",
    "\n",
    "# Load the CSV data\n",
    "df = pd.read_csv(\"netflix1.csv\")\n",
    "\n",
    "# ✅ MySQL credentials for XAMPP (no password)\n",
    "username = \"root\"\n",
    "password = \"\"  # 👈 Blank password\n",
    "host = \"localhost\"\n",
    "database = \"netflix\"\n",
    "\n",
    "# Create SQLAlchemy engine\n",
    "engine = create_engine(f\"mysql+pymysql://{username}:{password}@{host}/{database}\")\n",
    "\n",
    "# Upload data to MySQL table\n",
    "df.to_sql(\"data\", con=engine, if_exists=\"append\", index=False)\n",
    "\n",
    "print(\"✅ Data uploaded successfully to MySQL!\")\n"
   ]
  },
  {
   "cell_type": "code",
   "execution_count": null,
   "id": "f917f9a0-84ce-4bfd-851c-4dd0dd6f2721",
   "metadata": {},
   "outputs": [],
   "source": []
  }
 ],
 "metadata": {
  "kernelspec": {
   "display_name": "Python 3 (ipykernel)",
   "language": "python",
   "name": "python3"
  },
  "language_info": {
   "codemirror_mode": {
    "name": "ipython",
    "version": 3
   },
   "file_extension": ".py",
   "mimetype": "text/x-python",
   "name": "python",
   "nbconvert_exporter": "python",
   "pygments_lexer": "ipython3",
   "version": "3.13.5"
  }
 },
 "nbformat": 4,
 "nbformat_minor": 5
}
